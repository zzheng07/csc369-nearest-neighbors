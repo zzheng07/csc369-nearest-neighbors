{
 "cells": [
  {
   "cell_type": "markdown",
   "id": "under-nevada",
   "metadata": {},
   "source": [
    "## Description\n",
    "\n",
    "Our goal is to classify songs into their respective genres using various attributes found in the Spotify API. We will develop a parallelizable K-Nearest-Neighbors algorithm to attribute genre to songs. The algorithm will be able to handle batches of songs as well as a constant stream of input."
   ]
  },
  {
   "cell_type": "code",
   "execution_count": 6,
   "id": "practical-jacob",
   "metadata": {},
   "outputs": [
    {
     "data": {
      "text/plain": [
       "'/Users/zzheng07/.local/share/virtualenvs/csc369-nearest-neighbors-k8SxQdT9/bin/python'"
      ]
     },
     "execution_count": 6,
     "metadata": {},
     "output_type": "execute_result"
    }
   ],
   "source": [
    "import sys\n",
    "sys.executable"
   ]
  },
  {
   "cell_type": "code",
   "execution_count": null,
   "id": "champion-reform",
   "metadata": {},
   "outputs": [],
   "source": []
  }
 ],
 "metadata": {
  "kernelspec": {
   "display_name": "Python 3",
   "language": "python",
   "name": "python3"
  },
  "language_info": {
   "codemirror_mode": {
    "name": "ipython",
    "version": 3
   },
   "file_extension": ".py",
   "mimetype": "text/x-python",
   "name": "python",
   "nbconvert_exporter": "python",
   "pygments_lexer": "ipython3",
   "version": "3.8.5"
  }
 },
 "nbformat": 4,
 "nbformat_minor": 5
}
